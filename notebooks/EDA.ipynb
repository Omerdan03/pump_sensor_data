{
 "cells": [
  {
   "cell_type": "markdown",
   "id": "f137e091",
   "metadata": {},
   "source": [
    "# Imports"
   ]
  },
  {
   "cell_type": "code",
   "execution_count": 1,
   "id": "cd353537",
   "metadata": {},
   "outputs": [],
   "source": [
    "import os\n",
    "import numpy as np\n",
    "import pandas as pd"
   ]
  },
  {
   "cell_type": "markdown",
   "id": "0879d586",
   "metadata": {},
   "source": [
    "# Explore the data"
   ]
  },
  {
   "cell_type": "markdown",
   "id": "3b0bd643",
   "metadata": {},
   "source": [
    "## Read data"
   ]
  },
  {
   "cell_type": "code",
   "execution_count": 2,
   "id": "50499d6d",
   "metadata": {},
   "outputs": [],
   "source": [
    "data_folder = os.path.join('..', 'data')"
   ]
  },
  {
   "cell_type": "code",
   "execution_count": 17,
   "id": "fdc7b0f9",
   "metadata": {},
   "outputs": [],
   "source": [
    "df = pd.read_csv(os.path.join(data_folder, 'sensor.csv'))"
   ]
  },
  {
   "cell_type": "code",
   "execution_count": 18,
   "id": "0ba969ef",
   "metadata": {},
   "outputs": [
    {
     "data": {
      "text/plain": [
       "(220320, 55)"
      ]
     },
     "execution_count": 18,
     "metadata": {},
     "output_type": "execute_result"
    }
   ],
   "source": [
    "df.shape"
   ]
  },
  {
   "cell_type": "code",
   "execution_count": 19,
   "id": "18a8fba9",
   "metadata": {},
   "outputs": [
    {
     "data": {
      "text/html": [
       "<div>\n",
       "<style scoped>\n",
       "    .dataframe tbody tr th:only-of-type {\n",
       "        vertical-align: middle;\n",
       "    }\n",
       "\n",
       "    .dataframe tbody tr th {\n",
       "        vertical-align: top;\n",
       "    }\n",
       "\n",
       "    .dataframe thead th {\n",
       "        text-align: right;\n",
       "    }\n",
       "</style>\n",
       "<table border=\"1\" class=\"dataframe\">\n",
       "  <thead>\n",
       "    <tr style=\"text-align: right;\">\n",
       "      <th></th>\n",
       "      <th>Unnamed: 0</th>\n",
       "      <th>timestamp</th>\n",
       "      <th>sensor_00</th>\n",
       "      <th>sensor_01</th>\n",
       "      <th>sensor_02</th>\n",
       "      <th>sensor_03</th>\n",
       "      <th>sensor_04</th>\n",
       "      <th>sensor_05</th>\n",
       "      <th>sensor_06</th>\n",
       "      <th>sensor_07</th>\n",
       "      <th>...</th>\n",
       "      <th>sensor_43</th>\n",
       "      <th>sensor_44</th>\n",
       "      <th>sensor_45</th>\n",
       "      <th>sensor_46</th>\n",
       "      <th>sensor_47</th>\n",
       "      <th>sensor_48</th>\n",
       "      <th>sensor_49</th>\n",
       "      <th>sensor_50</th>\n",
       "      <th>sensor_51</th>\n",
       "      <th>machine_status</th>\n",
       "    </tr>\n",
       "  </thead>\n",
       "  <tbody>\n",
       "    <tr>\n",
       "      <th>0</th>\n",
       "      <td>0</td>\n",
       "      <td>2018-04-01 00:00:00</td>\n",
       "      <td>2.465394</td>\n",
       "      <td>47.09201</td>\n",
       "      <td>53.2118</td>\n",
       "      <td>46.310760</td>\n",
       "      <td>634.3750</td>\n",
       "      <td>76.45975</td>\n",
       "      <td>13.41146</td>\n",
       "      <td>16.13136</td>\n",
       "      <td>...</td>\n",
       "      <td>41.92708</td>\n",
       "      <td>39.641200</td>\n",
       "      <td>65.68287</td>\n",
       "      <td>50.92593</td>\n",
       "      <td>38.194440</td>\n",
       "      <td>157.9861</td>\n",
       "      <td>67.70834</td>\n",
       "      <td>243.0556</td>\n",
       "      <td>201.3889</td>\n",
       "      <td>NORMAL</td>\n",
       "    </tr>\n",
       "    <tr>\n",
       "      <th>1</th>\n",
       "      <td>1</td>\n",
       "      <td>2018-04-01 00:01:00</td>\n",
       "      <td>2.465394</td>\n",
       "      <td>47.09201</td>\n",
       "      <td>53.2118</td>\n",
       "      <td>46.310760</td>\n",
       "      <td>634.3750</td>\n",
       "      <td>76.45975</td>\n",
       "      <td>13.41146</td>\n",
       "      <td>16.13136</td>\n",
       "      <td>...</td>\n",
       "      <td>41.92708</td>\n",
       "      <td>39.641200</td>\n",
       "      <td>65.68287</td>\n",
       "      <td>50.92593</td>\n",
       "      <td>38.194440</td>\n",
       "      <td>157.9861</td>\n",
       "      <td>67.70834</td>\n",
       "      <td>243.0556</td>\n",
       "      <td>201.3889</td>\n",
       "      <td>NORMAL</td>\n",
       "    </tr>\n",
       "    <tr>\n",
       "      <th>2</th>\n",
       "      <td>2</td>\n",
       "      <td>2018-04-01 00:02:00</td>\n",
       "      <td>2.444734</td>\n",
       "      <td>47.35243</td>\n",
       "      <td>53.2118</td>\n",
       "      <td>46.397570</td>\n",
       "      <td>638.8889</td>\n",
       "      <td>73.54598</td>\n",
       "      <td>13.32465</td>\n",
       "      <td>16.03733</td>\n",
       "      <td>...</td>\n",
       "      <td>41.66666</td>\n",
       "      <td>39.351852</td>\n",
       "      <td>65.39352</td>\n",
       "      <td>51.21528</td>\n",
       "      <td>38.194443</td>\n",
       "      <td>155.9606</td>\n",
       "      <td>67.12963</td>\n",
       "      <td>241.3194</td>\n",
       "      <td>203.7037</td>\n",
       "      <td>NORMAL</td>\n",
       "    </tr>\n",
       "    <tr>\n",
       "      <th>3</th>\n",
       "      <td>3</td>\n",
       "      <td>2018-04-01 00:03:00</td>\n",
       "      <td>2.460474</td>\n",
       "      <td>47.09201</td>\n",
       "      <td>53.1684</td>\n",
       "      <td>46.397568</td>\n",
       "      <td>628.1250</td>\n",
       "      <td>76.98898</td>\n",
       "      <td>13.31742</td>\n",
       "      <td>16.24711</td>\n",
       "      <td>...</td>\n",
       "      <td>40.88541</td>\n",
       "      <td>39.062500</td>\n",
       "      <td>64.81481</td>\n",
       "      <td>51.21528</td>\n",
       "      <td>38.194440</td>\n",
       "      <td>155.9606</td>\n",
       "      <td>66.84028</td>\n",
       "      <td>240.4514</td>\n",
       "      <td>203.1250</td>\n",
       "      <td>NORMAL</td>\n",
       "    </tr>\n",
       "    <tr>\n",
       "      <th>4</th>\n",
       "      <td>4</td>\n",
       "      <td>2018-04-01 00:04:00</td>\n",
       "      <td>2.445718</td>\n",
       "      <td>47.13541</td>\n",
       "      <td>53.2118</td>\n",
       "      <td>46.397568</td>\n",
       "      <td>636.4583</td>\n",
       "      <td>76.58897</td>\n",
       "      <td>13.35359</td>\n",
       "      <td>16.21094</td>\n",
       "      <td>...</td>\n",
       "      <td>41.40625</td>\n",
       "      <td>38.773150</td>\n",
       "      <td>65.10416</td>\n",
       "      <td>51.79398</td>\n",
       "      <td>38.773150</td>\n",
       "      <td>158.2755</td>\n",
       "      <td>66.55093</td>\n",
       "      <td>242.1875</td>\n",
       "      <td>201.3889</td>\n",
       "      <td>NORMAL</td>\n",
       "    </tr>\n",
       "  </tbody>\n",
       "</table>\n",
       "<p>5 rows × 55 columns</p>\n",
       "</div>"
      ],
      "text/plain": [
       "   Unnamed: 0            timestamp  sensor_00  sensor_01  sensor_02  \\\n",
       "0           0  2018-04-01 00:00:00   2.465394   47.09201    53.2118   \n",
       "1           1  2018-04-01 00:01:00   2.465394   47.09201    53.2118   \n",
       "2           2  2018-04-01 00:02:00   2.444734   47.35243    53.2118   \n",
       "3           3  2018-04-01 00:03:00   2.460474   47.09201    53.1684   \n",
       "4           4  2018-04-01 00:04:00   2.445718   47.13541    53.2118   \n",
       "\n",
       "   sensor_03  sensor_04  sensor_05  sensor_06  sensor_07  ...  sensor_43  \\\n",
       "0  46.310760   634.3750   76.45975   13.41146   16.13136  ...   41.92708   \n",
       "1  46.310760   634.3750   76.45975   13.41146   16.13136  ...   41.92708   \n",
       "2  46.397570   638.8889   73.54598   13.32465   16.03733  ...   41.66666   \n",
       "3  46.397568   628.1250   76.98898   13.31742   16.24711  ...   40.88541   \n",
       "4  46.397568   636.4583   76.58897   13.35359   16.21094  ...   41.40625   \n",
       "\n",
       "   sensor_44  sensor_45  sensor_46  sensor_47  sensor_48  sensor_49  \\\n",
       "0  39.641200   65.68287   50.92593  38.194440   157.9861   67.70834   \n",
       "1  39.641200   65.68287   50.92593  38.194440   157.9861   67.70834   \n",
       "2  39.351852   65.39352   51.21528  38.194443   155.9606   67.12963   \n",
       "3  39.062500   64.81481   51.21528  38.194440   155.9606   66.84028   \n",
       "4  38.773150   65.10416   51.79398  38.773150   158.2755   66.55093   \n",
       "\n",
       "   sensor_50  sensor_51  machine_status  \n",
       "0   243.0556   201.3889          NORMAL  \n",
       "1   243.0556   201.3889          NORMAL  \n",
       "2   241.3194   203.7037          NORMAL  \n",
       "3   240.4514   203.1250          NORMAL  \n",
       "4   242.1875   201.3889          NORMAL  \n",
       "\n",
       "[5 rows x 55 columns]"
      ]
     },
     "execution_count": 19,
     "metadata": {},
     "output_type": "execute_result"
    }
   ],
   "source": [
    "df.head()"
   ]
  },
  {
   "cell_type": "markdown",
   "id": "35b6f04e",
   "metadata": {},
   "source": [
    "## Set data index"
   ]
  },
  {
   "cell_type": "code",
   "execution_count": 20,
   "id": "781e8f1a",
   "metadata": {},
   "outputs": [],
   "source": [
    "df.index = pd.to_datetime(df.timestamp)\n",
    "df.drop(['Unnamed: 0', 'timestamp'], axis=1, inplace=True)"
   ]
  },
  {
   "cell_type": "code",
   "execution_count": 30,
   "id": "f685547a",
   "metadata": {},
   "outputs": [
    {
     "name": "stdout",
     "output_type": "stream",
     "text": [
      "Sample freq std: 0 days 00:00:00\n",
      "Sample freq mean: 0 days 00:01:00\n"
     ]
    }
   ],
   "source": [
    "print(f'Sample freq std: {(df.index[1:] - df.index[:-1]).std()}')\n",
    "print(f'Sample freq mean: {(df.index[1:] - df.index[:-1]).mean()}')"
   ]
  },
  {
   "cell_type": "markdown",
   "id": "24b2a88f",
   "metadata": {},
   "source": [
    "We can see that the sensors are measured in constants frequancy of 1sample/min"
   ]
  },
  {
   "cell_type": "code",
   "execution_count": 31,
   "id": "ca325233",
   "metadata": {},
   "outputs": [
    {
     "data": {
      "text/plain": [
       "sensor_00         0.046333\n",
       "sensor_01         0.001675\n",
       "sensor_02         0.000086\n",
       "sensor_03         0.000086\n",
       "sensor_04         0.000086\n",
       "sensor_05         0.000086\n",
       "sensor_06         0.021777\n",
       "sensor_07         0.024741\n",
       "sensor_08         0.023180\n",
       "sensor_09         0.020856\n",
       "sensor_10         0.000086\n",
       "sensor_11         0.000086\n",
       "sensor_12         0.000086\n",
       "sensor_13         0.000086\n",
       "sensor_14         0.000095\n",
       "sensor_15         1.000000\n",
       "sensor_16         0.000141\n",
       "sensor_17         0.000209\n",
       "sensor_18         0.000209\n",
       "sensor_19         0.000073\n",
       "sensor_20         0.000073\n",
       "sensor_21         0.000073\n",
       "sensor_22         0.000186\n",
       "sensor_23         0.000073\n",
       "sensor_24         0.000073\n",
       "sensor_25         0.000163\n",
       "sensor_26         0.000091\n",
       "sensor_27         0.000073\n",
       "sensor_28         0.000073\n",
       "sensor_29         0.000327\n",
       "sensor_30         0.001185\n",
       "sensor_31         0.000073\n",
       "sensor_32         0.000309\n",
       "sensor_33         0.000073\n",
       "sensor_34         0.000073\n",
       "sensor_35         0.000073\n",
       "sensor_36         0.000073\n",
       "sensor_37         0.000073\n",
       "sensor_38         0.000123\n",
       "sensor_39         0.000123\n",
       "sensor_40         0.000123\n",
       "sensor_41         0.000123\n",
       "sensor_42         0.000123\n",
       "sensor_43         0.000123\n",
       "sensor_44         0.000123\n",
       "sensor_45         0.000123\n",
       "sensor_46         0.000123\n",
       "sensor_47         0.000123\n",
       "sensor_48         0.000123\n",
       "sensor_49         0.000123\n",
       "sensor_50         0.349569\n",
       "sensor_51         0.069821\n",
       "machine_status    0.000000\n",
       "dtype: float64"
      ]
     },
     "execution_count": 31,
     "metadata": {},
     "output_type": "execute_result"
    }
   ],
   "source": [
    "df.isnull().mean()"
   ]
  },
  {
   "cell_type": "code",
   "execution_count": null,
   "id": "f7a5c217",
   "metadata": {},
   "outputs": [],
   "source": []
  }
 ],
 "metadata": {
  "kernelspec": {
   "display_name": "Python 3",
   "language": "python",
   "name": "python3"
  },
  "language_info": {
   "codemirror_mode": {
    "name": "ipython",
    "version": 3
   },
   "file_extension": ".py",
   "mimetype": "text/x-python",
   "name": "python",
   "nbconvert_exporter": "python",
   "pygments_lexer": "ipython3",
   "version": "3.8.8"
  }
 },
 "nbformat": 4,
 "nbformat_minor": 5
}
